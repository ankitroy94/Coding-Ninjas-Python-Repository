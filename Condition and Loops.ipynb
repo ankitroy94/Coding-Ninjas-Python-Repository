{
 "cells": [
  {
   "cell_type": "markdown",
   "id": "f7b13b79",
   "metadata": {},
   "source": [
    "# Check No to be even or odd\n",
    "\n"
   ]
  },
  {
   "cell_type": "code",
   "execution_count": 7,
   "id": "31edd680",
   "metadata": {},
   "outputs": [
    {
     "name": "stdout",
     "output_type": "stream",
     "text": [
      "55\n",
      "odd number 55\n"
     ]
    }
   ],
   "source": [
    "n=int(input())\n",
    "if n%2==0:\n",
    "    print(\"even number\",n)\n",
    "else:\n",
    "    print(\"odd number\",n)"
   ]
  },
  {
   "cell_type": "markdown",
   "id": "c7722f63",
   "metadata": {},
   "source": [
    "# Using Relational And logical operator\n"
   ]
  },
  {
   "cell_type": "code",
   "execution_count": 10,
   "id": "d6f159b9",
   "metadata": {},
   "outputs": [
    {
     "name": "stdout",
     "output_type": "stream",
     "text": [
      "50\n",
      "11\n",
      "both 50 and 11 greater than 10\n"
     ]
    }
   ],
   "source": [
    "a=int(input())\n",
    "b=int(input())\n",
    "c1=a>10\n",
    "c2=b>10\n",
    "r=c1 and c2\n",
    "if r:\n",
    "    print('both',a ,'and',b, 'greater than 10')\n",
    "else:\n",
    "    print('No they are not')"
   ]
  },
  {
   "cell_type": "markdown",
   "id": "526abedf",
   "metadata": {},
   "source": [
    "# ELIF\n"
   ]
  },
  {
   "cell_type": "markdown",
   "id": "d838d251",
   "metadata": {},
   "source": [
    "## which no is greatest a b or c"
   ]
  },
  {
   "cell_type": "code",
   "execution_count": 18,
   "id": "2108ef7c",
   "metadata": {},
   "outputs": [
    {
     "name": "stdout",
     "output_type": "stream",
     "text": [
      "55\n",
      "34\n",
      "77\n",
      "77 is the greates of a b c\n"
     ]
    }
   ],
   "source": [
    "a=int(input())\n",
    "b=int(input())\n",
    "c=int(input())\n",
    "if a >b and a>c:\n",
    "    print(a ,'is the greatest of a b c')\n",
    "elif b>a and b>c:\n",
    "    print(b,'is the greatest of a  b c ')\n",
    "else:\n",
    "    print(c,'is the greates of a b c')"
   ]
  },
  {
   "cell_type": "code",
   "execution_count": 19,
   "id": "d5785049",
   "metadata": {},
   "outputs": [],
   "source": [
    "#WHile Loop\n",
    " "
   ]
  },
  {
   "cell_type": "code",
   "execution_count": 20,
   "id": "0ce785de",
   "metadata": {},
   "outputs": [],
   "source": [
    "##primal no\n"
   ]
  },
  {
   "cell_type": "code",
   "execution_count": 22,
   "id": "1d3d4ae6",
   "metadata": {},
   "outputs": [
    {
     "name": "stdout",
     "output_type": "stream",
     "text": [
      "55\n",
      "not prime\n"
     ]
    }
   ],
   "source": [
    "n=int(input())\n",
    "flag=False\n",
    "d=2\n",
    "while d<n:\n",
    "    if n%d==0:\n",
    "        flag=True\n",
    "    d=d+1\n",
    "if flag:\n",
    "    print('not prime')\n",
    "else:\n",
    "    print('prime')"
   ]
  },
  {
   "cell_type": "markdown",
   "id": "c7ab3700",
   "metadata": {},
   "source": [
    "## check if the no is prime and print all prime nos form 2 to n\n"
   ]
  },
  {
   "cell_type": "code",
   "execution_count": 28,
   "id": "196376b7",
   "metadata": {},
   "outputs": [
    {
     "name": "stdout",
     "output_type": "stream",
     "text": [
      "55\n",
      "2\n",
      "3\n",
      "4\n",
      "5\n",
      "6\n",
      "7\n",
      "8\n",
      "9\n",
      "10\n",
      "11\n",
      "12\n",
      "13\n",
      "14\n",
      "15\n",
      "16\n",
      "17\n",
      "18\n",
      "19\n",
      "20\n",
      "21\n",
      "22\n",
      "23\n",
      "24\n",
      "25\n",
      "26\n",
      "27\n",
      "28\n",
      "29\n",
      "30\n",
      "31\n",
      "32\n",
      "33\n",
      "34\n",
      "35\n",
      "36\n",
      "37\n",
      "38\n",
      "39\n",
      "40\n",
      "41\n",
      "42\n",
      "43\n",
      "44\n",
      "45\n",
      "46\n",
      "47\n",
      "48\n",
      "49\n",
      "50\n",
      "51\n",
      "52\n",
      "53\n",
      "54\n",
      "55\n"
     ]
    }
   ],
   "source": [
    "n=int(input())\n",
    "k=2\n",
    "while k<=n:\n",
    "    flag=False\n",
    "    while d<k:\n",
    "        if k%d==0:\n",
    "            flag=True\n",
    "            d=d+1\n",
    "    if not (flag):\n",
    "        print(k)\n",
    "    k=k+1    "
   ]
  },
  {
   "cell_type": "markdown",
   "id": "fffc55e8",
   "metadata": {},
   "source": [
    "## Fareheit to Celcius"
   ]
  },
  {
   "cell_type": "code",
   "execution_count": 34,
   "id": "03433984",
   "metadata": {},
   "outputs": [
    {
     "name": "stdout",
     "output_type": "stream",
     "text": [
      "0\n",
      "20\n",
      "100\n",
      "0 -17\n",
      "20 -6\n",
      "40 4\n",
      "60 15\n",
      "80 26\n",
      "100 37\n"
     ]
    }
   ],
   "source": [
    "s=int(input())\n",
    "w=int(input())\n",
    "e=int(input())\n",
    "a=s\n",
    "while a<=e:\n",
    "    s=(a-32)*(5/9)\n",
    "    print(a ,int(s))\n",
    "    a=a+w"
   ]
  },
  {
   "cell_type": "markdown",
   "id": "3df5b054",
   "metadata": {},
   "source": [
    "## calculator\n"
   ]
  },
  {
   "cell_type": "code",
   "execution_count": 37,
   "id": "c95a80bf",
   "metadata": {},
   "outputs": [
    {
     "name": "stdout",
     "output_type": "stream",
     "text": [
      "3\n",
      "4080\n",
      "1\n",
      "2\n",
      "4\n",
      "6\n",
      "2\n",
      "-2\n",
      "6\n"
     ]
    }
   ],
   "source": [
    "n=int(input())\n",
    "while n!=6:\n",
    "    if n<=1 and n<=5:\n",
    "        a=int(input())\n",
    "        b=int(input())\n",
    "    if n==1:\n",
    "        print(a+b)\n",
    "    if n==2:\n",
    "        print(a-b)\n",
    "    if n==3:\n",
    "        print(a*b)\n",
    "    if n==4:\n",
    "        print(a/b)\n",
    "    if n==5:\n",
    "        print(a%b)\n",
    "    elif n<1 and n>6:\n",
    "        print(\"invalid operation\")\n",
    "    n=int(input())    "
   ]
  },
  {
   "cell_type": "code",
   "execution_count": 38,
   "id": "c4e77d15",
   "metadata": {},
   "outputs": [
    {
     "name": "stdout",
     "output_type": "stream",
     "text": [
      "3\n",
      "1\n",
      "2\n",
      "2\n",
      "4\n",
      "4\n",
      "2\n",
      "2.0\n",
      "1\n",
      "3\n",
      "2\n",
      "5\n",
      "7\n",
      "6\n",
      "6\n",
      "6\n"
     ]
    }
   ],
   "source": [
    "# try:\n",
    "#     while True:\n",
    "#         n=int(input())\n",
    "#         a=int(input())\n",
    "#         b=int(input())\n",
    "        \n",
    "#         if n==1:\n",
    "#             print(a+b)\n",
    "#         if n==2:\n",
    "#             print(a-b)\n",
    "#         if n==3:\n",
    "#             print(a*b)\n",
    "#         if n==4:\n",
    "#             print(a/b)\n",
    "#         if n==5:\n",
    "#             print(a%b)\n",
    "#         elif n<1 and n>6:\n",
    "#             print('invalid operation')\n",
    "            \n",
    "# except:\n",
    "#     exit()"
   ]
  },
  {
   "cell_type": "markdown",
   "id": "58afa8bd",
   "metadata": {},
   "source": [
    "## nth fibonacci no\n"
   ]
  },
  {
   "cell_type": "code",
   "execution_count": 7,
   "id": "24d3c92b",
   "metadata": {},
   "outputs": [
    {
     "name": "stdout",
     "output_type": "stream",
     "text": [
      "33\n",
      "3524578\n"
     ]
    }
   ],
   "source": [
    "n=int(input())\n",
    "a=0\n",
    "b=1\n",
    "c=0\n",
    "d=2\n",
    "while d<=n:\n",
    "    c=a+b\n",
    "    a=b\n",
    "    b=c\n",
    "    d=d+1\n",
    "    #print(b,end=' ')\n",
    "else:\n",
    "    print(b)##in order to print nth fibonacii no"
   ]
  },
  {
   "cell_type": "markdown",
   "id": "2f329eb7",
   "metadata": {},
   "source": [
    "## reversed number\n"
   ]
  },
  {
   "cell_type": "code",
   "execution_count": 13,
   "id": "65016d44",
   "metadata": {},
   "outputs": [
    {
     "name": "stdout",
     "output_type": "stream",
     "text": [
      "10400\n",
      "401\n"
     ]
    }
   ],
   "source": [
    "num=int(input())\n",
    "rnum=0\n",
    "while num>0:\n",
    "    dig=num%10\n",
    "    rnum=rnum*10+dig\n",
    "    num=num//10\n",
    "print(rnum)    "
   ]
  },
  {
   "cell_type": "code",
   "execution_count": null,
   "id": "804d716e",
   "metadata": {},
   "outputs": [],
   "source": []
  }
 ],
 "metadata": {
  "kernelspec": {
   "display_name": "Python 3 (ipykernel)",
   "language": "python",
   "name": "python3"
  },
  "language_info": {
   "codemirror_mode": {
    "name": "ipython",
    "version": 3
   },
   "file_extension": ".py",
   "mimetype": "text/x-python",
   "name": "python",
   "nbconvert_exporter": "python",
   "pygments_lexer": "ipython3",
   "version": "3.9.7"
  }
 },
 "nbformat": 4,
 "nbformat_minor": 5
}
